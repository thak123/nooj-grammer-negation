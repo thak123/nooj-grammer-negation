{
 "cells": [
  {
   "cell_type": "code",
   "execution_count": 68,
   "metadata": {},
   "outputs": [
    {
     "name": "stderr",
     "output_type": "stream",
     "text": [
      "[nltk_data] Downloading package benepar_en to\n",
      "[nltk_data]     /home/gaurish/nltk_data...\n",
      "[nltk_data]   Package benepar_en is already up-to-date!\n"
     ]
    }
   ],
   "source": [
    "\n",
    "\n",
    "import spacy\n",
    "import benepar\n",
    "from benepar.spacy_plugin import BeneparComponent\n",
    "spacy.require_gpu(0)\n",
    "benepar.download('benepar_en')\n",
    "nlp = spacy.load('en_core_web_sm',disable=[\"ner\"])\n",
    "nlp.add_pipe(BeneparComponent('benepar_en'))\n",
    "\n",
    "import nltk\n",
    "from nltk.tree import Tree\n",
    "from nltk.tree import ParentedTree"
   ]
  },
  {
   "cell_type": "code",
   "execution_count": 52,
   "metadata": {},
   "outputs": [],
   "source": [
    "import csv\n",
    "def _read(file_path):\n",
    "    with open(file_path, 'r') as file:\n",
    "        reader = csv.reader(file, delimiter=\",\")\n",
    "        tokens = []\n",
    "        tags = []\n",
    "        for row in reader:\n",
    "            word, label = row\n",
    "\n",
    "            if word == '\\n':\n",
    "                continue\n",
    "            if word == \"*START-SENTENCE*\":\n",
    "                tokens = []\n",
    "                tags = []\n",
    "            elif word == \"*END-SENTENCE*\":\n",
    "                if len(tokens) > 1:\n",
    "                    yield \" \".join(tokens)\n",
    "                tokens = []\n",
    "                tags = []\n",
    "            elif word == \"*START-ACTOR*\" or word == \"*END-ACTOR*\":\n",
    "                continue\n",
    "            else:\n",
    "                if label not in {'I-cue', 'I-scope', 'O'}:\n",
    "                    raise RuntimeError(\n",
    "                        'Label %s is not a valid tag' % label)\n",
    "                tokens.append(word)\n",
    "                tags.append(label)\n",
    "        "
   ]
  },
  {
   "cell_type": "code",
   "execution_count": 105,
   "metadata": {},
   "outputs": [],
   "source": [
    "train_data = _read('data/unlabelled_conandoyle_train.csv')\n",
    "train_data_full = _read('data/unlabelled_conandoyle_train_full.csv')\n",
    "dev_data = _read('data/labelled_conandoyle_dev.csv')\n",
    "test_data = _read('data/labelled_conandoyle_test.csv')"
   ]
  },
  {
   "cell_type": "code",
   "execution_count": 106,
   "metadata": {},
   "outputs": [
    {
     "data": {
      "text/plain": [
       "699"
      ]
     },
     "execution_count": 106,
     "metadata": {},
     "output_type": "execute_result"
    }
   ],
   "source": [
    "train_data =list(train_data)\n",
    "len((train_data))\n"
   ]
  },
  {
   "cell_type": "code",
   "execution_count": 107,
   "metadata": {},
   "outputs": [
    {
     "data": {
      "text/plain": [
       "842"
      ]
     },
     "execution_count": 107,
     "metadata": {},
     "output_type": "execute_result"
    }
   ],
   "source": [
    "train_data_full =list(train_data_full)\n",
    "len( (train_data_full))\n"
   ]
  },
  {
   "cell_type": "code",
   "execution_count": 110,
   "metadata": {},
   "outputs": [
    {
     "data": {
      "text/plain": [
       "144"
      ]
     },
     "execution_count": 110,
     "metadata": {},
     "output_type": "execute_result"
    }
   ],
   "source": [
    "dev_data = list(dev_data)\n",
    "len( (dev_data))"
   ]
  },
  {
   "cell_type": "code",
   "execution_count": 111,
   "metadata": {},
   "outputs": [
    {
     "data": {
      "text/plain": [
       "235"
      ]
     },
     "execution_count": 111,
     "metadata": {},
     "output_type": "execute_result"
    }
   ],
   "source": [
    "test_data = list(test_data)\n",
    "len( (test_data))"
   ]
  },
  {
   "cell_type": "code",
   "execution_count": 112,
   "metadata": {},
   "outputs": [],
   "source": [
    "import jsonlines\n",
    "\n"
   ]
  },
  {
   "cell_type": "code",
   "execution_count": 114,
   "metadata": {},
   "outputs": [],
   "source": [
    "dataset = []\n",
    "for doc in nlp.pipe(train_data, n_threads=8, batch_size=10000):\n",
    "    sent = list(doc.sents)[0]\n",
    "    key = \" \".join([token.text for token in doc])\n",
    "    dataset.append({\n",
    "        key :{ \n",
    "            \"parse_string\":sent._.parse_string,\n",
    "            \"pos_tags\":[token.pos_ for token in doc]\n",
    "    }\n",
    "                   })\n",
    "with jsonlines.open('spacy_features_train.jsonl', 'w') as writer:\n",
    "    writer.write_all(dataset)\n"
   ]
  },
  {
   "cell_type": "code",
   "execution_count": 116,
   "metadata": {},
   "outputs": [
    {
     "data": {
      "text/plain": [
       "(699,\n",
       " {'Mr. Sherlock Holmes , who was usually very late in the mornings , save upon those not infrequent occasions when he was up all night , was seated at the breakfast table .': {'parse_string': '(S (NP (NP (NNP Mr.) (NNP Sherlock) (NNP Holmes)) (, ,) (SBAR (SBAR (WHNP (WP who)) (S (VP (VBD was) (ADVP (RB usually)) (RB very) (JJ late) (PP (IN in) (NP (DT the) (NNS mornings)))))) (, ,) (VP (VB save) (PP (IN upon) (NP (DT those) (ADJP (RB not) (JJ infrequent)) (NNS occasions))) (SBAR (WHADVP (WRB when)) (S (NP (PRP he)) (VP (VBD was) (ADVP (RB up)) (NP (DT all) (NN night))))))) (, ,)) (VP (VBD was) (VP (VBN seated) (PP (IN at) (NP (DT the) (NN breakfast) (NN table))))) (. .))',\n",
       "   'pos_tags': ['PROPN',\n",
       "    'PROPN',\n",
       "    'PROPN',\n",
       "    'PUNCT',\n",
       "    'PRON',\n",
       "    'AUX',\n",
       "    'ADV',\n",
       "    'ADV',\n",
       "    'ADJ',\n",
       "    'ADP',\n",
       "    'DET',\n",
       "    'NOUN',\n",
       "    'PUNCT',\n",
       "    'VERB',\n",
       "    'SCONJ',\n",
       "    'DET',\n",
       "    'PART',\n",
       "    'ADJ',\n",
       "    'NOUN',\n",
       "    'ADV',\n",
       "    'PRON',\n",
       "    'AUX',\n",
       "    'ADV',\n",
       "    'DET',\n",
       "    'NOUN',\n",
       "    'PUNCT',\n",
       "    'AUX',\n",
       "    'VERB',\n",
       "    'ADP',\n",
       "    'DET',\n",
       "    'NOUN',\n",
       "    'NOUN',\n",
       "    'PUNCT']}})"
      ]
     },
     "execution_count": 116,
     "metadata": {},
     "output_type": "execute_result"
    }
   ],
   "source": [
    "len(dataset),dataset[0]"
   ]
  },
  {
   "cell_type": "code",
   "execution_count": 117,
   "metadata": {},
   "outputs": [
    {
     "data": {
      "text/plain": [
       "['He made no remark , but the matter remained in his thoughts , for he stood in front of the fire afterwards with a thoughtful face , smoking his pipe , and casting an occasional glance at the message .',\n",
       " 'No woman would ever send a reply-paid telegram .',\n",
       " 'My mind is like a racing engine , tearing itself to pieces because it is not connected up with the work for which it was built .',\n",
       " \"`` I have had a most singular and unpleasant experience , Mr. Holmes , '' said he .\",\n",
       " '`` Never in my life have I been placed in such a situation .',\n",
       " 'It is most improper -- most outrageous .',\n",
       " '`` Well , sir , it did not appear to be a matter which concerned the police , and yet , when you have heard the facts , you must admit that I could not leave it where it was .',\n",
       " \"Private detectives are a class with whom I have absolutely no sympathy , but none the less , having heard your name -- ''\",\n",
       " \"But , in the second place , why did you not come at once ? ''\",\n",
       " \"But no one can glance at your toilet and attire without seeing that your disturbance dates from the moment of your waking . ''\",\n",
       " 'Our client smoothed down his unbrushed hair and felt his unshaven chin .',\n",
       " 'I never gave a thought to my toilet .',\n",
       " \"Please arrange your thoughts and let me know , in their due sequence , exactly what those events are which have sent you out unbrushed and unkempt , with dress boots and waistcoat buttoned awry , in search of advice and assistance . ''\",\n",
       " 'Our client looked down with a rueful face at his own unconventional appearance .',\n",
       " \"`` I 'm sure it must look very bad , Mr. Holmes , and I am not aware that in my whole life such a thing has ever happened before .\",\n",
       " \"You do n't mean -- you do n't mean that I am suspected ? ''\",\n",
       " 'I think , Watson , a brandy and soda would do him no harm .',\n",
       " \"Now , sir , I suggest that you take no notice of this addition to your audience , and that you proceed with your narrative exactly as you would have done had you never been interrupted . ''\",\n",
       " 'He continually drummed his fingers on the table , gnawed his nails , and gave other signs of nervous impatience .',\n",
       " 'The dinner itself was neither well served nor well cooked , and the gloomy presence of the taciturn servant did not help to enliven us .',\n",
       " 'I thought nothing of it at the time .',\n",
       " 'He gave up all pretence at conversation and sat , smoking endless cigarettes , lost in his own thoughts , but he made no remark as to the contents .',\n",
       " 'I said that I had not .',\n",
       " 'There was no response .',\n",
       " 'You can imagine my surprise when I found that there was no one there .',\n",
       " 'There was no answer .',\n",
       " 'No reply .',\n",
       " 'The room was empty , and the bed had never been slept in .',\n",
       " 'But this theory would not work .',\n",
       " 'The man was unknown there .',\n",
       " 'I can assure you that every word I have said is the truth , and that , outside of what I have told you , I know absolutely nothing about the fate of this man .',\n",
       " \"I picked this out unburned from the back of it . ''\",\n",
       " '`` The note is written upon ordinary cream-laid paper without watermark .',\n",
       " 'The oval seal is undoubtedly a plain sleeve-link -- what else is of such a shape ?',\n",
       " \"`` I 'm bound to say that I make nothing of the note except that there was something on hand , and that a woman , as usual was at the bottom of it . ''\",\n",
       " \"`` But I beg to point out that I have not yet heard what has happened to Mr. Garcia , nor what has become of his household . ''\",\n",
       " 'It is a lonely corner , and there is no house within a quarter of a mile of the spot .',\n",
       " \"There are no footsteps nor any clue to the criminals . ''\",\n",
       " \"`` No , there was no attempt at robbery . ''\",\n",
       " \"`` This is very painful -- very painful and terrible , '' said Mr. Scott Eccles in a querulous voice , `` but it is really uncommonly hard on me .\",\n",
       " 'I had nothing to do with my host going off upon a nocturnal excursion and meeting so sad an end .',\n",
       " 'It was after nine this morning when we reached his house and found neither you nor anyone else inside it .',\n",
       " \"I desire you to spare no expense and no pains to get at the truth . ''\",\n",
       " \"`` I suppose that you have no objection to my collaborating with you , Mr. Baynes ? ''\",\n",
       " \"`` But that is perfectly impossible , Mr. Baynes , '' cried our client .\",\n",
       " '`` His voice is unmistakable .',\n",
       " \"`` Remarkable , but by no means impossible , '' said Holmes , smiling .\",\n",
       " '`` On the face of it the case is not a very complex one , though it certainly presents some novel and interesting features .',\n",
       " \"`` I can make nothing of this mystification of Scott Eccles . ''\",\n",
       " '`` You must admit , my dear Watson , that the idea of a joke is impossible .',\n",
       " 'There is , on the face of it , something unnatural about this strange and sudden friendship between the young Spaniard and Scott Eccles .',\n",
       " 'I see no charm in the man .',\n",
       " 'He is not particularly intelligent -- not a man likely to be congenial to a quick-witted Latin .',\n",
       " \"You saw yourself how neither of the inspectors dreamed of questioning his statement , extraordinary as it was . ''\",\n",
       " '`` Nothing , as things turned out , but everything had they gone another way .',\n",
       " 'By some juggling of the clocks it is quite possible that they may have got Scott Eccles to bed earlier than he thought , but in any case it is likely that when Garcia went out of his way to tell him that it was one it was really not more than twelve .',\n",
       " 'Here was this irreproachable Englishman ready to swear in any court of law that the accused was in the house all the time .',\n",
       " '`` I have not all my facts yet , but I do not think there are any insuperable difficulties .',\n",
       " \"You find yourself insensibly twisting them round to fit your theories . ''\",\n",
       " \"She would not have said ` Godspeed ' had it not been so .\",\n",
       " '`` Good , Watson , very good -- but quite inadmissable .',\n",
       " \"Meanwhile we can thank our lucky fate which has rescued us for a few short hours from the insufferable fatigues of idleness . ''\",\n",
       " \"`` I do n't quite understand . ''\",\n",
       " \"It is equally certain that this house can not be more than a mile or two from Oxshott , since Garcia was walking in that direction and hoped , according to my reading of the facts , to be back in Wisteria Lodge in time to avail himself of an alibi , which would only be valid up to one o'clock .\",\n",
       " \"It has been a long evening , and I do n't think my nerve is as good as it was . ''\",\n",
       " \"I should not have thought you had a nerve in your body . ''\",\n",
       " \"I do n't know what made me look up , but there was a face looking in at me through the lower pane .\",\n",
       " \"This is not talk for a police-constable . ''\",\n",
       " \"`` I know , sir , I know ; but it shook me , sir , and there 's no use to deny it .\",\n",
       " \"It was n't black , sir , nor was it white , nor any colour that I know but a kind of queer shade like clay with a splash of milk in it .\",\n",
       " \"I tell you , sir , I could n't move a finger , nor get my breath , till it whisked away and was gone .\",\n",
       " \"Out I ran and through the shrubbery , but thank God there was no one there . ''\",\n",
       " \"`` If I did n't know you were a good man , Walters , I should put a black mark against you for this .\",\n",
       " 'If it were the devil himself a constable on duty should never thank God that he could not lay his hands upon him .',\n",
       " \"I suppose the whole thing is not a vision and a touch of nerves ? ''\",\n",
       " 'The various bedrooms and sitting-rooms had yielded nothing to a careful search .',\n",
       " 'Apparently the tenants had brought little or nothing with them , and all the furniture down to the smallest details had been taken over with the house .',\n",
       " 'Telegraphic inquiries had been already made which showed that Marx knew nothing of his customer save that he was a good payer .',\n",
       " \"`` Nothing in all this , '' said Baynes , stalking , candle in hand , from room to room .\",\n",
       " \"He says that they are not human . ''\",\n",
       " \"Your powers , if I may say so without offence , seem superior to your opportunities . ''\",\n",
       " \"I should be glad to be able to say afterwards that I had solved it without your help . ''\",\n",
       " 'After his habit he said nothing , and after mine I asked no questions .',\n",
       " 'Sufficient for me to share the sport and lend my humble help to the capture without distracting that intent brain with needless interruption .',\n",
       " 'Day succeeded day , and my friend took no step forward .',\n",
       " 'Save for this one excursion , he spent his days in long and often solitary walks , or in chatting with a number of village gossips whose acquaintance he had cultivated .',\n",
       " 'He said little about the case , but from that little we gathered that he also was not dissatisfied at the course of events .',\n",
       " \"`` You do n't mean that Baynes has got him ? ''\",\n",
       " 'It was suggested , but never proved , that the deceased gentleman may have had valuables in the house , and that their abstraction was the motive of the crime .',\n",
       " 'Every effort was made by Inspector Baynes , who has the case in hand , to ascertain the hiding place of the fugitives , and he had good reason to believe that they had not gone far but were lurking in some retreat which had been already prepared .',\n",
       " \"Pray do n't think it a liberty if I give you a word of friendly warning . ''\",\n",
       " '`` I have looked into this case with some care , and I am not convinced that you are on the right lines .',\n",
       " \"I do n't want you to commit yourself too far unless you are sure . ''\",\n",
       " \"`` Do n't blame me . ''\",\n",
       " '`` No , sir ; I believe you mean well by me .',\n",
       " \"`` Let us say no more about it . ''\",\n",
       " \"He hardly speaks a word of English , and we can get nothing out of him but grunts . ''\",\n",
       " \"`` I did n't say so , Mr. Holmes ; I did n't say so .\",\n",
       " \"`` I ca n't make the man out .\",\n",
       " \"But there 's something in Inspector Baynes which I ca n't quite understand . ''\",\n",
       " 'They were all confederates in the same unknown crime .',\n",
       " 'But the attempt was a dangerous one , and if Garcia did not return by a certain hour it was probable that his own life had been sacrificed .',\n",
       " 'The whole inexplicable tangle seemed to straighten out before me .',\n",
       " 'I wondered , as I always did , how it had not been obvious to me before .',\n",
       " '`` We can imagine that in the confusion of flight something precious , something which he could not bear to part with , had been left behind .',\n",
       " 'He is either a foreigner or has lived long in the tropics , for he is yellow and sapless , but tough as whipcord .',\n",
       " 'His friend and secretary , Mr. Lucas , is undoubtedly a foreigner , chocolate brown , wily , suave , and catlike , with a poisonous gentleness of speech .',\n",
       " 'There are no better instruments than discharged servants with a grievance , and I was lucky enough to find one .',\n",
       " 'I call it luck , but it would not have come my way had I not been looking out for it .',\n",
       " 'He in turn had friends among the indoor servants who unite in their fear and dislike of their master .',\n",
       " \"I do n't pretend to understand it all yet , but very curious people anyway .\",\n",
       " \"There 's no link between the two save for Henderson 's own servant , who serves the family 's meals .\",\n",
       " 'Henderson never by any chance walks alone .',\n",
       " 'Where they came from , or who they are , nobody has an idea .',\n",
       " 'Miss Burnet has not been seen by any human eye since the night of the murder .',\n",
       " 'There is nothing upon which we can apply for a warrant .',\n",
       " \"The woman 's disappearance counts for nothing , since in that extraordinary household any member of it might be invisible for a week .\",\n",
       " \"We ca n't let such a situation continue .\",\n",
       " \"If the law can do nothing we must take the risk ourselves . ''\",\n",
       " 'It was not , I must confess , a very alluring prospect .',\n",
       " 'The old house with its atmosphere of murder , the singular and formidable inhabitants , the unknown dangers of the approach , and the fact that we were putting ourselves legally in a false position all combined to damp my ardour .',\n",
       " 'But there was something in the ice-cold reasoning of Holmes which made it impossible to shrink from any adventure which he might recommend .',\n",
       " 'But it was not destined that our investigation should have so adventurous an ending .',\n",
       " \"I sha n't forget the face at the carriage window as I led her away .\",\n",
       " '`` I was sure Henderson , as he calls himself , felt that he was suspected , and that he would lie low and make no move so long as he thought he was in any danger .',\n",
       " \"We ca n't arrest without her evidence , that is clear , so the sooner we get a statement the better . ''\",\n",
       " 'Strong , fearless , and energetic , he had sufficient virtue to enable him to impose his odious vices upon a cowering people for ten or twelve years .',\n",
       " '`` I join in it because there is no other way in the world by which justice can be gained .',\n",
       " \"To us there is no fiend in hell like Juan Murillo , and no peace in life while his victims still cry for vengeance . ''\",\n",
       " 'But the many whose lives he had ruined , whose nearest and dearest had suffered torture and death at his hands , would not let the matter rest .',\n",
       " 'They banded themselves into a society which should never be dissolved until the work was done .',\n",
       " 'He could do little during the day , for Murillo took every precaution and never went out save with his satellite Lucas , or Lopez as he was known in the days of his greatness .',\n",
       " \"How they murdered him I do not know , save that it was Murillo 's hand who struck him down , for Lopez had remained to guard me .\",\n",
       " '`` All would now have been well for them had it not been for my knowledge of what they had done .',\n",
       " 'I have no doubt that there were times when my life hung in the balance .',\n",
       " 'I sprang out , they tried to drag me back , and had it not been for the help of this good man , who led me to the cab , I should never had broken away .',\n",
       " \"`` Our difficulties are not over , '' he remarked , shaking his head .\",\n",
       " \"No , no , we shall all be justified when we see the tenants of High Gable at the next Guildford Assizes . ''\",\n",
       " 'From that day they were seen no more in England .',\n",
       " 'The crime was ascribed to Nihilism , and the murderers were never arrested .',\n",
       " 'We could not doubt that justice , if belated , had come at last .',\n",
       " '`` It will not be possible for you to present in that compact form which is dear to your heart .',\n",
       " \"Is there any point which is not quite clear to you ? ''\",\n",
       " '`` ` The true voodoo-worshipper attempts nothing of importance without certain sacrifices which are intended to propitiate his unclean gods .']"
      ]
     },
     "execution_count": 117,
     "metadata": {},
     "output_type": "execute_result"
    }
   ],
   "source": [
    "list(dev_data)"
   ]
  },
  {
   "cell_type": "code",
   "execution_count": 118,
   "metadata": {},
   "outputs": [],
   "source": [
    "dataset = []\n",
    "for doc in nlp.pipe(dev_data, n_threads=8, batch_size=10000):\n",
    "    sent = list(doc.sents)[0]\n",
    "    key = \" \".join([token.text for token in doc])\n",
    "    dataset.append({\n",
    "        key :{ \n",
    "            \"parse_string\":sent._.parse_string,\n",
    "            \"pos_tags\":[token.pos_ for token in doc]\n",
    "    }\n",
    "                   })\n",
    "with jsonlines.open('spacy_features_dev.jsonl', 'w') as writer:\n",
    "    writer.write_all(dataset)"
   ]
  },
  {
   "cell_type": "code",
   "execution_count": 119,
   "metadata": {},
   "outputs": [
    {
     "data": {
      "text/plain": [
       "144"
      ]
     },
     "execution_count": 119,
     "metadata": {},
     "output_type": "execute_result"
    }
   ],
   "source": [
    "len(dataset)"
   ]
  },
  {
   "cell_type": "code",
   "execution_count": 120,
   "metadata": {},
   "outputs": [],
   "source": [
    "dataset = []\n",
    "for doc in nlp.pipe(test_data, n_threads=8, batch_size=10000):\n",
    "    sent = list(doc.sents)[0]\n",
    "    key = \" \".join([token.text for token in doc])\n",
    "    dataset.append({\n",
    "        key :{ \n",
    "            \"parse_string\":sent._.parse_string,\n",
    "            \"pos_tags\":[token.pos_ for token in doc]\n",
    "    }\n",
    "                   })\n",
    "with jsonlines.open('spacy_features_test.jsonl', 'w') as writer:\n",
    "    writer.write_all(dataset)"
   ]
  },
  {
   "cell_type": "code",
   "execution_count": 121,
   "metadata": {},
   "outputs": [
    {
     "data": {
      "text/plain": [
       "235"
      ]
     },
     "execution_count": 121,
     "metadata": {},
     "output_type": "execute_result"
    }
   ],
   "source": [
    "len(dataset)"
   ]
  },
  {
   "cell_type": "code",
   "execution_count": 122,
   "metadata": {},
   "outputs": [],
   "source": [
    "dataset = []\n",
    "for doc in nlp.pipe(train_data_full, n_threads=8, batch_size=10000):\n",
    "    sent = list(doc.sents)[0]\n",
    "    key = \" \".join([token.text for token in doc])\n",
    "    dataset.append({\n",
    "        key :{ \n",
    "            \"parse_string\":sent._.parse_string,\n",
    "            \"pos_tags\":[token.pos_ for token in doc]\n",
    "    }\n",
    "                   })\n",
    "with jsonlines.open('spacy_features_train_full.jsonl', 'w') as writer:\n",
    "    writer.write_all(dataset)"
   ]
  },
  {
   "cell_type": "code",
   "execution_count": 123,
   "metadata": {},
   "outputs": [
    {
     "data": {
      "text/plain": [
       "842"
      ]
     },
     "execution_count": 123,
     "metadata": {},
     "output_type": "execute_result"
    }
   ],
   "source": [
    "len(dataset)"
   ]
  },
  {
   "cell_type": "code",
   "execution_count": null,
   "metadata": {},
   "outputs": [],
   "source": [
    "cat   spacy_features_train.jsonl spacy_features_dev.jsonl spacy_features_test.jsonl > spacy_features.jsonl\n"
   ]
  },
  {
   "cell_type": "code",
   "execution_count": null,
   "metadata": {},
   "outputs": [],
   "source": [
    " cat   spacy_features_train_full.jsonl spacy_features_dev.jsonl spacy_features_test.jsonl > spacy_features_full.jsonl\n",
    "\n"
   ]
  }
 ],
 "metadata": {
  "kernelspec": {
   "display_name": "Python 3",
   "language": "python",
   "name": "python3"
  },
  "language_info": {
   "codemirror_mode": {
    "name": "ipython",
    "version": 3
   },
   "file_extension": ".py",
   "mimetype": "text/x-python",
   "name": "python",
   "nbconvert_exporter": "python",
   "pygments_lexer": "ipython3",
   "version": "3.7.4"
  }
 },
 "nbformat": 4,
 "nbformat_minor": 4
}
