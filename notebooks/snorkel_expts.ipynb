{
 "cells": [
  {
   "cell_type": "code",
   "execution_count": 2,
   "metadata": {},
   "outputs": [
    {
     "name": "stdout",
     "output_type": "stream",
     "text": [
      "Collecting snorkel\n",
      "  Downloading snorkel-0.9.5-py3-none-any.whl (141 kB)\n",
      "\u001b[K     |████████████████████████████████| 141 kB 440 kB/s eta 0:00:01\n",
      "\u001b[?25hCollecting pandas<0.26.0,>=0.25.0\n",
      "  Downloading pandas-0.25.3-cp37-cp37m-manylinux1_x86_64.whl (10.4 MB)\n",
      "\u001b[K     |████████████████████████████████| 10.4 MB 2.6 MB/s eta 0:00:01\n",
      "\u001b[?25hCollecting tensorboard<2.0.0,>=1.14.0\n",
      "  Using cached tensorboard-1.15.0-py3-none-any.whl (3.8 MB)\n",
      "Requirement already satisfied, skipping upgrade: tqdm<5.0.0,>=4.33.0 in /home/gaurish/miniconda3/lib/python3.7/site-packages (from snorkel) (4.44.1)\n",
      "Requirement already satisfied, skipping upgrade: numpy<2.0.0,>=1.16.0 in /home/gaurish/miniconda3/lib/python3.7/site-packages (from snorkel) (1.18.3)\n",
      "Requirement already satisfied, skipping upgrade: networkx<2.4,>=2.2 in /home/gaurish/miniconda3/lib/python3.7/site-packages (from snorkel) (2.2)\n",
      "Collecting munkres>=1.0.6\n",
      "  Downloading munkres-1.1.2-py2.py3-none-any.whl (6.8 kB)\n",
      "Collecting scikit-learn<0.22.0,>=0.20.2\n",
      "  Downloading scikit_learn-0.21.3-cp37-cp37m-manylinux1_x86_64.whl (6.7 MB)\n",
      "\u001b[K     |████████████████████████████████| 6.7 MB 1.3 MB/s eta 0:00:01\n",
      "\u001b[?25hRequirement already satisfied, skipping upgrade: scipy<2.0.0,>=1.2.0 in /home/gaurish/miniconda3/lib/python3.7/site-packages (from snorkel) (1.4.1)\n",
      "Requirement already satisfied, skipping upgrade: torch<2.0.0,>=1.2.0 in /home/gaurish/miniconda3/lib/python3.7/site-packages (from snorkel) (1.4.0)\n",
      "Requirement already satisfied, skipping upgrade: python-dateutil>=2.6.1 in /home/gaurish/miniconda3/lib/python3.7/site-packages (from pandas<0.26.0,>=0.25.0->snorkel) (2.8.1)\n",
      "Requirement already satisfied, skipping upgrade: pytz>=2017.2 in /home/gaurish/miniconda3/lib/python3.7/site-packages (from pandas<0.26.0,>=0.25.0->snorkel) (2019.3)\n",
      "Requirement already satisfied, skipping upgrade: markdown>=2.6.8 in /home/gaurish/miniconda3/lib/python3.7/site-packages (from tensorboard<2.0.0,>=1.14.0->snorkel) (3.1.1)\n",
      "Requirement already satisfied, skipping upgrade: grpcio>=1.6.3 in /home/gaurish/miniconda3/lib/python3.7/site-packages (from tensorboard<2.0.0,>=1.14.0->snorkel) (1.27.2)\n",
      "Requirement already satisfied, skipping upgrade: six>=1.10.0 in /home/gaurish/miniconda3/lib/python3.7/site-packages (from tensorboard<2.0.0,>=1.14.0->snorkel) (1.14.0)\n",
      "Requirement already satisfied, skipping upgrade: protobuf>=3.6.0 in /home/gaurish/miniconda3/lib/python3.7/site-packages (from tensorboard<2.0.0,>=1.14.0->snorkel) (3.11.4)\n",
      "Requirement already satisfied, skipping upgrade: absl-py>=0.4 in /home/gaurish/miniconda3/lib/python3.7/site-packages (from tensorboard<2.0.0,>=1.14.0->snorkel) (0.9.0)\n",
      "Requirement already satisfied, skipping upgrade: setuptools>=41.0.0 in /home/gaurish/miniconda3/lib/python3.7/site-packages (from tensorboard<2.0.0,>=1.14.0->snorkel) (46.1.3.post20200330)\n",
      "Requirement already satisfied, skipping upgrade: wheel>=0.26; python_version >= \"3\" in /home/gaurish/miniconda3/lib/python3.7/site-packages (from tensorboard<2.0.0,>=1.14.0->snorkel) (0.34.2)\n",
      "Requirement already satisfied, skipping upgrade: werkzeug>=0.11.15 in /home/gaurish/miniconda3/lib/python3.7/site-packages (from tensorboard<2.0.0,>=1.14.0->snorkel) (1.0.1)\n",
      "Requirement already satisfied, skipping upgrade: decorator>=4.3.0 in /home/gaurish/miniconda3/lib/python3.7/site-packages (from networkx<2.4,>=2.2->snorkel) (4.4.2)\n",
      "Requirement already satisfied, skipping upgrade: joblib>=0.11 in /home/gaurish/miniconda3/lib/python3.7/site-packages (from scikit-learn<0.22.0,>=0.20.2->snorkel) (0.13.2)\n",
      "\u001b[31mERROR: tensorflow 1.13.2 has requirement tensorboard<1.14.0,>=1.13.0, but you'll have tensorboard 1.15.0 which is incompatible.\u001b[0m\n",
      "\u001b[31mERROR: tensorflow 1.13.2 has requirement tensorflow-estimator<1.14.0rc0,>=1.13.0, but you'll have tensorflow-estimator 2.1.0 which is incompatible.\u001b[0m\n",
      "\u001b[31mERROR: tensorflow-gpu 2.1.0 has requirement tensorboard<2.2.0,>=2.1.0, but you'll have tensorboard 1.15.0 which is incompatible.\u001b[0m\n",
      "\u001b[31mERROR: tensorflow-gpu 2.1.0 has requirement wrapt>=1.11.1, but you'll have wrapt 1.10.11 which is incompatible.\u001b[0m\n",
      "\u001b[31mERROR: flair 0.4.5 has requirement urllib3<1.25,>=1.20, but you'll have urllib3 1.25.8 which is incompatible.\u001b[0m\n",
      "\u001b[31mERROR: allennlp 0.9.0 has requirement spacy<2.2,>=2.1.0, but you'll have spacy 2.2.4 which is incompatible.\u001b[0m\n",
      "Installing collected packages: pandas, tensorboard, munkres, scikit-learn, snorkel\n",
      "  Attempting uninstall: pandas\n",
      "    Found existing installation: pandas 1.0.1\n",
      "    Uninstalling pandas-1.0.1:\n",
      "      Successfully uninstalled pandas-1.0.1\n",
      "  Attempting uninstall: tensorboard\n",
      "    Found existing installation: tensorboard 2.1.1\n",
      "    Uninstalling tensorboard-2.1.1:\n",
      "      Successfully uninstalled tensorboard-2.1.1\n",
      "  Attempting uninstall: scikit-learn\n",
      "    Found existing installation: scikit-learn 0.22.1\n",
      "    Uninstalling scikit-learn-0.22.1:\n",
      "      Successfully uninstalled scikit-learn-0.22.1\n",
      "  Attempting uninstall: snorkel\n",
      "    Found existing installation: snorkel 0.7.0b0\n",
      "    Uninstalling snorkel-0.7.0b0:\n",
      "      Successfully uninstalled snorkel-0.7.0b0\n",
      "Successfully installed munkres-1.1.2 pandas-0.25.3 scikit-learn-0.21.3 snorkel-0.9.5 tensorboard-1.15.0\n"
     ]
    }
   ],
   "source": [
    "!pip install snorkel -U"
   ]
  },
  {
   "cell_type": "code",
   "execution_count": null,
   "metadata": {},
   "outputs": [],
   "source": []
  }
 ],
 "metadata": {
  "kernelspec": {
   "display_name": "Python 3",
   "language": "python",
   "name": "python3"
  },
  "language_info": {
   "codemirror_mode": {
    "name": "ipython",
    "version": 3
   },
   "file_extension": ".py",
   "mimetype": "text/x-python",
   "name": "python",
   "nbconvert_exporter": "python",
   "pygments_lexer": "ipython3",
   "version": "3.7.4"
  }
 },
 "nbformat": 4,
 "nbformat_minor": 4
}
