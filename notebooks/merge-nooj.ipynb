{
 "cells": [
  {
   "cell_type": "code",
   "execution_count": 28,
   "metadata": {},
   "outputs": [],
   "source": [
    "import os"
   ]
  },
  {
   "cell_type": "code",
   "execution_count": 29,
   "metadata": {},
   "outputs": [
    {
     "name": "stdout",
     "output_type": "stream",
     "text": [
      " 565.txt\t\t   conandoyle_train.txt    README.md\n",
      " 565v2.txt\t\t  '~$nandoyle_train.rtf'   res.txt\n",
      " 565v3.txt\t\t   _negcue.nog.nog\t   sfu-plain-text.txt\n",
      " 565vlr.txt\t\t   notebooks\t\t   SFU_train.conll\n",
      " Backup\t\t\t   out2.txt\t\t   SFU_train.txt\n",
      " conandoyle_train.conllu   out3.txt\t\t  'special cases.txt'\n",
      " conandoyle_train.not\t   output.txt\t\t   streusle.ud_train.conllulex\n",
      " conandoyle_train.rtf\t   out.txt\n"
     ]
    }
   ],
   "source": [
    "!ls ../\n"
   ]
  },
  {
   "cell_type": "code",
   "execution_count": 30,
   "metadata": {},
   "outputs": [
    {
     "name": "stdout",
     "output_type": "stream",
     "text": [
      "conandoyle_train.html  postprocess-calculate-metrics.ipynb\n",
      "merge-nooj.ipynb       postprocess-calculate-metrics.py\n",
      "merge-nooj.py\t       postprocess-calculate-metricsv2.py\n"
     ]
    }
   ],
   "source": [
    "!ls\n"
   ]
  },
  {
   "cell_type": "code",
   "execution_count": 1,
   "metadata": {},
   "outputs": [
    {
     "name": "stdout",
     "output_type": "stream",
     "text": [
      "convert /media/gaurish/angela/projects/nooj-grammer-negation/conandoyle_train.rtf -> /media/gaurish/angela/projects/nooj-grammer-negation/notebooks/conandoyle_train.html using filter : HTML (StarWriter)\n",
      "Overwriting: /media/gaurish/angela/projects/nooj-grammer-negation/notebooks/conandoyle_train.html\n"
     ]
    }
   ],
   "source": [
    "!soffice --headless --convert-to html ../conandoyle_train.rtf"
   ]
  },
  {
   "cell_type": "code",
   "execution_count": 4,
   "metadata": {},
   "outputs": [],
   "source": [
    "lr_context = \"../565vlr.txt\"\n",
    "context = \"../565v3.txt\"\n",
    "colored_file = \"../conandoyle_train.rtf\""
   ]
  },
  {
   "cell_type": "code",
   "execution_count": null,
   "metadata": {},
   "outputs": [],
   "source": [
    "remove all \\n\n",
    "line break on <\\p>\n",
    "## TODO check the color of the export\n",
    "<font color=\"#ff0000\"><font face=\"Yu Gothic UI, serif\"><font size=\"3\" style=\"font-size: 12pt\">(.*?)</font></font></font> => <red>\\1</red>\n",
    "<font color=\"#000000\"><font face=\"Yu Gothic UI, serif\"><font size=\"3\" style=\"font-size: 12pt\">(.*?)</font></font></font>=> \\1\n",
    "<p style=\"margin-bottom: 0in; line-height: 100%\"> => None\n",
    "</p> => None"
   ]
  },
  {
   "cell_type": "code",
   "execution_count": 32,
   "metadata": {},
   "outputs": [],
   "source": [
    "with open(\"conandoyle_train.html\") as input_file:\n",
    "    count= 0\n",
    "    line_no =0\n",
    "    for line in input_file:\n",
    "        line_no+=1\n",
    "        if \"<red>\" in line:\n",
    "            count+=1\n",
    "        "
   ]
  },
  {
   "cell_type": "code",
   "execution_count": 33,
   "metadata": {},
   "outputs": [
    {
     "data": {
      "text/plain": [
       "(700, 842, 83.1353919239905)"
      ]
     },
     "execution_count": 33,
     "metadata": {},
     "output_type": "execute_result"
    }
   ],
   "source": [
    "count,line_no, (count/line_no)*100"
   ]
  },
  {
   "cell_type": "code",
   "execution_count": 24,
   "metadata": {},
   "outputs": [],
   "source": [
    "target_lines = []\n",
    "with open(\"../565v3.txt\") as target_file:\n",
    "    for line in target_file:\n",
    "        line= line.strip()\n",
    "        if line:\n",
    "            target_lines.append(line)"
   ]
  },
  {
   "cell_type": "code",
   "execution_count": 26,
   "metadata": {},
   "outputs": [],
   "source": [
    "source_lines =[]\n",
    "with open(\"conandoyle_train.html\") as source_file:\n",
    "    for line in source_file:\n",
    "        line= line.strip()\n",
    "        if line:\n",
    "            source_lines.append(line)"
   ]
  },
  {
   "cell_type": "code",
   "execution_count": 27,
   "metadata": {},
   "outputs": [
    {
     "data": {
      "text/plain": [
       "(797, 844)"
      ]
     },
     "execution_count": 27,
     "metadata": {},
     "output_type": "execute_result"
    }
   ],
   "source": [
    "len(target_lines),len(source_lines)"
   ]
  },
  {
   "cell_type": "code",
   "execution_count": 4,
   "metadata": {},
   "outputs": [
    {
     "data": {
      "text/plain": [
       "['<Do,Do,WF>',\n",
       " '<NEG-CUE',\n",
       " '<n,,WF>',\n",
       " \"<''',,WF>\",\n",
       " '<t,,WF>',\n",
       " '>',\n",
       " '<move,move,WF>',\n",
       " \"<',',,WF>\"]"
      ]
     },
     "execution_count": 4,
     "metadata": {},
     "output_type": "execute_result"
    }
   ],
   "source": [
    "a =\"<Do,Do,WF>#<NEG-CUE#<n,,WF>#<''',,WF>#<t,,WF>#>#<move,move,WF>#<',',,WF>#\"\n",
    "\n",
    "\n",
    "list(filter(None, a.split(\"#\")))\n",
    "\n"
   ]
  },
  {
   "cell_type": "code",
   "execution_count": 9,
   "metadata": {},
   "outputs": [
    {
     "name": "stdout",
     "output_type": "stream",
     "text": [
      "<Do,Do,WF>\n",
      "1 <Do,Do,WF>\n",
      "<NEG-CUE\n",
      "2 <NEG-CUE\n",
      "<n,,WF>\n",
      "1 <n,,WF>\n",
      "<''',,WF>\n",
      "1 <''',,WF>\n",
      "<t,,WF>\n",
      "1 <t,,WF>\n",
      ">\n",
      "2 >\n",
      "<move,move,WF>\n",
      "1 <move,move,WF>\n",
      "<',',,WF>\n",
      "1 <',',,WF>\n"
     ]
    }
   ],
   "source": [
    "instarted =False\n",
    "temp = []\n",
    "for i in filter(None, a.split(\"#\")):\n",
    "    print(i)\n",
    "    if \"<\" in i and  \">\" in i:\n",
    "        print(\"1\",i)\n",
    "    elif \"<\" in i or instarted:\n",
    "        #append\n",
    "        print(\"2\",i)\n",
    "        temp.append(i)\n",
    "        instarted = True\n",
    "    elif \">\" in i:\n",
    "        instarted = False\n",
    "        print(\"3\",temp)\n",
    "        temp =[]\n",
    "        \n",
    "        "
   ]
  },
  {
   "cell_type": "code",
   "execution_count": 10,
   "metadata": {},
   "outputs": [
    {
     "ename": "SyntaxError",
     "evalue": "invalid syntax (<ipython-input-10-e3ac421f8d23>, line 1)",
     "output_type": "error",
     "traceback": [
      "\u001b[0;36m  File \u001b[0;32m\"<ipython-input-10-e3ac421f8d23>\"\u001b[0;36m, line \u001b[0;32m1\u001b[0m\n\u001b[0;31m    <NEG-CUE#<None,,WF>#>\u001b[0m\n\u001b[0m    ^\u001b[0m\n\u001b[0;31mSyntaxError\u001b[0m\u001b[0;31m:\u001b[0m invalid syntax\n"
     ]
    }
   ],
   "source": [
    "<NEG-CUE#<None,,WF>#>"
   ]
  },
  {
   "cell_type": "code",
   "execution_count": null,
   "metadata": {},
   "outputs": [],
   "source": [
    "<NEG-CUE#<n,,WF>#<''',,WF>#<t,,WF>#> => <NEG-CUE#<n,,WF>#<''',,WF>#<t,,WF>#>"
   ]
  }
 ],
 "metadata": {
  "kernelspec": {
   "display_name": "Python 3",
   "language": "python",
   "name": "python3"
  },
  "language_info": {
   "codemirror_mode": {
    "name": "ipython",
    "version": 3
   },
   "file_extension": ".py",
   "mimetype": "text/x-python",
   "name": "python",
   "nbconvert_exporter": "python",
   "pygments_lexer": "ipython3",
   "version": "3.7.4"
  }
 },
 "nbformat": 4,
 "nbformat_minor": 4
}
