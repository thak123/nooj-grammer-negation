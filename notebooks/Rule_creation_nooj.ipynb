{
 "cells": [
  {
   "cell_type": "code",
   "execution_count": 1,
   "metadata": {},
   "outputs": [],
   "source": [
    "import spacy"
   ]
  },
  {
   "cell_type": "code",
   "execution_count": 2,
   "metadata": {},
   "outputs": [
    {
     "name": "stderr",
     "output_type": "stream",
     "text": [
      "/home/gaurish/miniconda3/lib/python3.7/site-packages/tensorflow/python/framework/dtypes.py:526: FutureWarning: Passing (type, 1) or '1type' as a synonym of type is deprecated; in a future version of numpy, it will be understood as (type, (1,)) / '(1,)type'.\n",
      "  _np_qint8 = np.dtype([(\"qint8\", np.int8, 1)])\n",
      "/home/gaurish/miniconda3/lib/python3.7/site-packages/tensorflow/python/framework/dtypes.py:527: FutureWarning: Passing (type, 1) or '1type' as a synonym of type is deprecated; in a future version of numpy, it will be understood as (type, (1,)) / '(1,)type'.\n",
      "  _np_quint8 = np.dtype([(\"quint8\", np.uint8, 1)])\n",
      "/home/gaurish/miniconda3/lib/python3.7/site-packages/tensorflow/python/framework/dtypes.py:528: FutureWarning: Passing (type, 1) or '1type' as a synonym of type is deprecated; in a future version of numpy, it will be understood as (type, (1,)) / '(1,)type'.\n",
      "  _np_qint16 = np.dtype([(\"qint16\", np.int16, 1)])\n",
      "/home/gaurish/miniconda3/lib/python3.7/site-packages/tensorflow/python/framework/dtypes.py:529: FutureWarning: Passing (type, 1) or '1type' as a synonym of type is deprecated; in a future version of numpy, it will be understood as (type, (1,)) / '(1,)type'.\n",
      "  _np_quint16 = np.dtype([(\"quint16\", np.uint16, 1)])\n",
      "/home/gaurish/miniconda3/lib/python3.7/site-packages/tensorflow/python/framework/dtypes.py:530: FutureWarning: Passing (type, 1) or '1type' as a synonym of type is deprecated; in a future version of numpy, it will be understood as (type, (1,)) / '(1,)type'.\n",
      "  _np_qint32 = np.dtype([(\"qint32\", np.int32, 1)])\n",
      "/home/gaurish/miniconda3/lib/python3.7/site-packages/tensorflow/python/framework/dtypes.py:535: FutureWarning: Passing (type, 1) or '1type' as a synonym of type is deprecated; in a future version of numpy, it will be understood as (type, (1,)) / '(1,)type'.\n",
      "  np_resource = np.dtype([(\"resource\", np.ubyte, 1)])\n",
      "[nltk_data] Downloading package benepar_en to\n",
      "[nltk_data]     /home/gaurish/nltk_data...\n",
      "[nltk_data]   Package benepar_en is already up-to-date!\n"
     ]
    },
    {
     "data": {
      "text/plain": [
       "True"
      ]
     },
     "execution_count": 2,
     "metadata": {},
     "output_type": "execute_result"
    }
   ],
   "source": [
    "import nltk\n",
    "import benepar\n",
    "from benepar.spacy_plugin import BeneparComponent\n",
    "benepar.download('benepar_en')"
   ]
  },
  {
   "cell_type": "code",
   "execution_count": 3,
   "metadata": {},
   "outputs": [],
   "source": [
    "from benepar.spacy_plugin import BeneparComponent\n",
    "spacy.prefer_gpu(0)\n",
    "nlp = spacy.load('en_core_web_sm',disable=[\"ner\"])\n",
    "nlp.add_pipe(BeneparComponent('benepar_en'))"
   ]
  },
  {
   "cell_type": "code",
   "execution_count": 18,
   "metadata": {},
   "outputs": [],
   "source": [
    "\n",
    "from nltk.tree import Tree\n",
    "\n",
    "\n",
    "\n",
    "def nltk_spacy_tree(sent):\n",
    "    \"\"\"\n",
    "    Visualize the SpaCy dependency tree with nltk.tree\n",
    "    \"\"\"\n",
    "    doc = nlp(sent)\n",
    "    def token_format(token,index=0):\n",
    "        return \"_\".join([token.orth_, token.tag_, token.dep_, str(index)])\n",
    "\n",
    "    def to_nltk_tree(node,index=0):\n",
    "        if node.n_lefts + node.n_rights > 0:\n",
    "            return Tree(token_format(node,index),\n",
    "                       [to_nltk_tree(child,i) \n",
    "                        for i, child in enumerate(node.children)]\n",
    "                   )\n",
    "        else:\n",
    "            return token_format(node,index)\n",
    "\n",
    "    tree = [to_nltk_tree(sent.root) for sent in doc.sents]\n",
    "    # The first item in the list is the full tree\n",
    "    print(tree)\n",
    "#     tree[0].draw()\n",
    "    return tree"
   ]
  },
  {
   "cell_type": "code",
   "execution_count": 19,
   "metadata": {},
   "outputs": [],
   "source": [
    "text =\" Watson wo n't allow that I know anything of art but that is mere jealousy because our views upon the subject differ .\""
   ]
  },
  {
   "cell_type": "code",
   "execution_count": 20,
   "metadata": {},
   "outputs": [
    {
     "name": "stdout",
     "output_type": "stream",
     "text": [
      "[Tree('allow_VB_ROOT_0', [Tree('Watson_NNP_nsubj_0', [' __SP__0']), 'wo_MD_aux_1', \"n't_RB_neg_2\", Tree('know_VBP_ccomp_3', ['that_IN_mark_0', 'I_PRP_nsubj_1', Tree('anything_NN_dobj_2', [Tree('of_IN_prep_0', ['art_NN_pobj_0'])])])]), Tree('is_VBZ_ROOT_0', ['but_CC_cc_0', 'that_DT_nsubj_1', Tree('jealousy_NN_attr_2', ['mere_JJ_amod_0']), Tree('differ_NN_advcl_3', ['because_IN_mark_0', Tree('views_NNS_nsubj_1', ['our_PRP$_poss_0', Tree('upon_IN_prep_1', [Tree('subject_JJ_pobj_0', ['the_DT_det_0'])])])]), '._._punct_4'])]\n"
     ]
    }
   ],
   "source": [
    "trees = nltk_spacy_tree(text)\n"
   ]
  },
  {
   "cell_type": "code",
   "execution_count": 23,
   "metadata": {},
   "outputs": [
    {
     "data": {
      "image/png": "[encoded data removed]",
      "text/plain": [
       "Tree('is_VBZ_ROOT_0', ['but_CC_cc_0', 'that_DT_nsubj_1', Tree('jealousy_NN_attr_2', ['mere_JJ_amod_0']), Tree('differ_NN_advcl_3', ['because_IN_mark_0', Tree('views_NNS_nsubj_1', ['our_PRP$_poss_0', Tree('upon_IN_prep_1', [Tree('subject_JJ_pobj_0', ['the_DT_det_0'])])])]), '._._punct_4'])"
      ]
     },
     "execution_count": 23,
     "metadata": {},
     "output_type": "execute_result"
    }
   ],
   "source": [
    "trees[1]"
   ]
  },
  {
   "cell_type": "code",
   "execution_count": 28,
   "metadata": {},
   "outputs": [],
   "source": [
    "doc = nlp(text)\n"
   ]
  },
  {
   "cell_type": "code",
   "execution_count": 29,
   "metadata": {},
   "outputs": [
    {
     "name": "stdout",
     "output_type": "stream",
     "text": [
      "(S (S (PP (IN As) (PP (IN to) (NP (DT the) (JJ latter) (NN part)))) (, ,) (NP (PRP I)) (VP (VBP have) (NP (NP (DT no) (NN means)) (PP (IN of) (S (VP (VBG checking) (NP (PRP you)))))))) (, ,) ('' '') (VP (VBD said)) (NP (NP (PRP I)) (, ,) ('' `) (NP ('' `))) (CC but) (S (ADVP (IN at) (JJS least)) (NP (NP (PRP it))) (VP (VBZ is) (RB not) (ADJP (JJ difficult)) (S (VP (TO to) (VP (VB find) (PRT (RP out)) (NP (NP (DT a) (JJ few) (NNS particulars)) (PP (IN about) (NP (NP (DT the) (NN man) (POS 's)) (NX (NX (NN age)) (CC and) (NX (JJ professional) (NN career))))))))))) (. .))\n"
     ]
    }
   ],
   "source": [
    "sent = list(doc.sents)[0]\n",
    "print(sent._.parse_string)\n",
    "# print(sent._.labels)\n",
    "# print(list(sent._.children)[0])"
   ]
  },
  {
   "cell_type": "code",
   "execution_count": 18,
   "metadata": {},
   "outputs": [],
   "source": [
    "# for chunk in doc.noun_chunks:\n",
    "#     print(chunk.text, chunk.root.text, chunk.root.dep_, chunk.root.head.text)\n",
    "# from nltk.tree import Tree\n",
    "# s1 = Tree.fromstring(sent._.parse_string)\n",
    "# print(s1)\n"
   ]
  },
  {
   "cell_type": "code",
   "execution_count": 30,
   "metadata": {},
   "outputs": [
    {
     "name": "stdout",
     "output_type": "stream",
     "text": [
      "(PP (IN As) (PP (IN to) (NP (DT the) (JJ latter) (NN part))))\n",
      "(PP (IN to) (NP (DT the) (JJ latter) (NN part)))\n",
      "(NP (DT the) (JJ latter) (NN part))\n",
      "(NP (DT the) (JJ latter) (NN part))\n",
      "(NP (DT the) (JJ latter) (NN part))\n",
      "(S\n",
      "  (PP (IN As) (PP (IN to) (NP (DT the) (JJ latter) (NN part))))\n",
      "  (, ,)\n",
      "  (NP (PRP I))\n",
      "  (VP\n",
      "    (VBP have)\n",
      "    (NP\n",
      "      (NP (DT no) (NN means))\n",
      "      (PP (IN of) (S (VP (VBG checking) (NP (PRP you))))))))\n",
      "(NP (PRP I))\n",
      "(VP\n",
      "  (VBP have)\n",
      "  (NP\n",
      "    (NP (DT no) (NN means))\n",
      "    (PP (IN of) (S (VP (VBG checking) (NP (PRP you)))))))\n",
      "(NP (DT no) (NN means))\n",
      "(NP (DT no) (NN means))\n",
      "(PP (IN of) (S (VP (VBG checking) (NP (PRP you)))))\n",
      "(VP (VBG checking) (NP (PRP you)))\n",
      "(NP (PRP you))\n",
      "(S\n",
      "  (S\n",
      "    (PP (IN As) (PP (IN to) (NP (DT the) (JJ latter) (NN part))))\n",
      "    (, ,)\n",
      "    (NP (PRP I))\n",
      "    (VP\n",
      "      (VBP have)\n",
      "      (NP\n",
      "        (NP (DT no) (NN means))\n",
      "        (PP (IN of) (S (VP (VBG checking) (NP (PRP you))))))))\n",
      "  (, ,)\n",
      "  ('' '')\n",
      "  (VP (VBD said))\n",
      "  (NP (NP (PRP I)) (, ,) ('' `) (NP ('' `)))\n",
      "  (CC but)\n",
      "  (S\n",
      "    (ADVP (IN at) (JJS least))\n",
      "    (NP (NP (PRP it)))\n",
      "    (VP\n",
      "      (VBZ is)\n",
      "      (RB not)\n",
      "      (ADJP (JJ difficult))\n",
      "      (S\n",
      "        (VP\n",
      "          (TO to)\n",
      "          (VP\n",
      "            (VB find)\n",
      "            (PRT (RP out))\n",
      "            (NP\n",
      "              (NP (DT a) (JJ few) (NNS particulars))\n",
      "              (PP\n",
      "                (IN about)\n",
      "                (NP\n",
      "                  (NP (DT the) (NN man) (POS 's))\n",
      "                  (NX\n",
      "                    (NX (NN age))\n",
      "                    (CC and)\n",
      "                    (NX (JJ professional) (NN career)))))))))))\n",
      "  (. .))\n",
      "(S\n",
      "  (S\n",
      "    (PP (IN As) (PP (IN to) (NP (DT the) (JJ latter) (NN part))))\n",
      "    (, ,)\n",
      "    (NP (PRP I))\n",
      "    (VP\n",
      "      (VBP have)\n",
      "      (NP\n",
      "        (NP (DT no) (NN means))\n",
      "        (PP (IN of) (S (VP (VBG checking) (NP (PRP you))))))))\n",
      "  (, ,)\n",
      "  ('' '')\n",
      "  (VP (VBD said))\n",
      "  (NP (NP (PRP I)) (, ,) ('' `) (NP ('' `)))\n",
      "  (CC but)\n",
      "  (S\n",
      "    (ADVP (IN at) (JJS least))\n",
      "    (NP (NP (PRP it)))\n",
      "    (VP\n",
      "      (VBZ is)\n",
      "      (RB not)\n",
      "      (ADJP (JJ difficult))\n",
      "      (S\n",
      "        (VP\n",
      "          (TO to)\n",
      "          (VP\n",
      "            (VB find)\n",
      "            (PRT (RP out))\n",
      "            (NP\n",
      "              (NP (DT a) (JJ few) (NNS particulars))\n",
      "              (PP\n",
      "                (IN about)\n",
      "                (NP\n",
      "                  (NP (DT the) (NN man) (POS 's))\n",
      "                  (NX\n",
      "                    (NX (NN age))\n",
      "                    (CC and)\n",
      "                    (NX (JJ professional) (NN career)))))))))))\n",
      "  (. .))\n",
      "(VP (VBD said))\n",
      "(NP (PRP I))\n",
      "(NP (NP (PRP I)) (, ,) ('' `) (NP ('' `)))\n",
      "(NP (NP (PRP I)) (, ,) ('' `) (NP ('' `)))\n",
      "(NP ('' `))\n",
      "(S\n",
      "  (S\n",
      "    (PP (IN As) (PP (IN to) (NP (DT the) (JJ latter) (NN part))))\n",
      "    (, ,)\n",
      "    (NP (PRP I))\n",
      "    (VP\n",
      "      (VBP have)\n",
      "      (NP\n",
      "        (NP (DT no) (NN means))\n",
      "        (PP (IN of) (S (VP (VBG checking) (NP (PRP you))))))))\n",
      "  (, ,)\n",
      "  ('' '')\n",
      "  (VP (VBD said))\n",
      "  (NP (NP (PRP I)) (, ,) ('' `) (NP ('' `)))\n",
      "  (CC but)\n",
      "  (S\n",
      "    (ADVP (IN at) (JJS least))\n",
      "    (NP (NP (PRP it)))\n",
      "    (VP\n",
      "      (VBZ is)\n",
      "      (RB not)\n",
      "      (ADJP (JJ difficult))\n",
      "      (S\n",
      "        (VP\n",
      "          (TO to)\n",
      "          (VP\n",
      "            (VB find)\n",
      "            (PRT (RP out))\n",
      "            (NP\n",
      "              (NP (DT a) (JJ few) (NNS particulars))\n",
      "              (PP\n",
      "                (IN about)\n",
      "                (NP\n",
      "                  (NP (DT the) (NN man) (POS 's))\n",
      "                  (NX\n",
      "                    (NX (NN age))\n",
      "                    (CC and)\n",
      "                    (NX (JJ professional) (NN career)))))))))))\n",
      "  (. .))\n",
      "(ADVP (IN at) (JJS least))\n",
      "(ADVP (IN at) (JJS least))\n",
      "(NP (PRP it))\n",
      "(VP\n",
      "  (VBZ is)\n",
      "  (RB not)\n",
      "  (ADJP (JJ difficult))\n",
      "  (S\n",
      "    (VP\n",
      "      (TO to)\n",
      "      (VP\n",
      "        (VB find)\n",
      "        (PRT (RP out))\n",
      "        (NP\n",
      "          (NP (DT a) (JJ few) (NNS particulars))\n",
      "          (PP\n",
      "            (IN about)\n",
      "            (NP\n",
      "              (NP (DT the) (NN man) (POS 's))\n",
      "              (NX\n",
      "                (NX (NN age))\n",
      "                (CC and)\n",
      "                (NX (JJ professional) (NN career))))))))))\n",
      "(VP\n",
      "  (VBZ is)\n",
      "  (RB not)\n",
      "  (ADJP (JJ difficult))\n",
      "  (S\n",
      "    (VP\n",
      "      (TO to)\n",
      "      (VP\n",
      "        (VB find)\n",
      "        (PRT (RP out))\n",
      "        (NP\n",
      "          (NP (DT a) (JJ few) (NNS particulars))\n",
      "          (PP\n",
      "            (IN about)\n",
      "            (NP\n",
      "              (NP (DT the) (NN man) (POS 's))\n",
      "              (NX\n",
      "                (NX (NN age))\n",
      "                (CC and)\n",
      "                (NX (JJ professional) (NN career))))))))))\n",
      "(ADJP (JJ difficult))\n",
      "(VP\n",
      "  (TO to)\n",
      "  (VP\n",
      "    (VB find)\n",
      "    (PRT (RP out))\n",
      "    (NP\n",
      "      (NP (DT a) (JJ few) (NNS particulars))\n",
      "      (PP\n",
      "        (IN about)\n",
      "        (NP\n",
      "          (NP (DT the) (NN man) (POS 's))\n",
      "          (NX\n",
      "            (NX (NN age))\n",
      "            (CC and)\n",
      "            (NX (JJ professional) (NN career))))))))\n",
      "(VP\n",
      "  (VB find)\n",
      "  (PRT (RP out))\n",
      "  (NP\n",
      "    (NP (DT a) (JJ few) (NNS particulars))\n",
      "    (PP\n",
      "      (IN about)\n",
      "      (NP\n",
      "        (NP (DT the) (NN man) (POS 's))\n",
      "        (NX\n",
      "          (NX (NN age))\n",
      "          (CC and)\n",
      "          (NX (JJ professional) (NN career)))))))\n",
      "(PRT (RP out))\n",
      "(NP (DT a) (JJ few) (NNS particulars))\n",
      "(NP (DT a) (JJ few) (NNS particulars))\n",
      "(NP (DT a) (JJ few) (NNS particulars))\n",
      "(PP\n",
      "  (IN about)\n",
      "  (NP\n",
      "    (NP (DT the) (NN man) (POS 's))\n",
      "    (NX (NX (NN age)) (CC and) (NX (JJ professional) (NN career)))))\n",
      "(NP (DT the) (NN man) (POS 's))\n",
      "(NP (DT the) (NN man) (POS 's))\n",
      "(NP (DT the) (NN man) (POS 's))\n",
      "(NX (NN age))\n",
      "(NX (NX (NN age)) (CC and) (NX (JJ professional) (NN career)))\n",
      "(NX (JJ professional) (NN career))\n",
      "(NX (JJ professional) (NN career))\n",
      "(S\n",
      "  (S\n",
      "    (PP (IN As) (PP (IN to) (NP (DT the) (JJ latter) (NN part))))\n",
      "    (, ,)\n",
      "    (NP (PRP I))\n",
      "    (VP\n",
      "      (VBP have)\n",
      "      (NP\n",
      "        (NP (DT no) (NN means))\n",
      "        (PP (IN of) (S (VP (VBG checking) (NP (PRP you))))))))\n",
      "  (, ,)\n",
      "  ('' '')\n",
      "  (VP (VBD said))\n",
      "  (NP (NP (PRP I)) (, ,) ('' `) (NP ('' `)))\n",
      "  (CC but)\n",
      "  (S\n",
      "    (ADVP (IN at) (JJS least))\n",
      "    (NP (NP (PRP it)))\n",
      "    (VP\n",
      "      (VBZ is)\n",
      "      (RB not)\n",
      "      (ADJP (JJ difficult))\n",
      "      (S\n",
      "        (VP\n",
      "          (TO to)\n",
      "          (VP\n",
      "            (VB find)\n",
      "            (PRT (RP out))\n",
      "            (NP\n",
      "              (NP (DT a) (JJ few) (NNS particulars))\n",
      "              (PP\n",
      "                (IN about)\n",
      "                (NP\n",
      "                  (NP (DT the) (NN man) (POS 's))\n",
      "                  (NX\n",
      "                    (NX (NN age))\n",
      "                    (CC and)\n",
      "                    (NX (JJ professional) (NN career)))))))))))\n",
      "  (. .))\n"
     ]
    }
   ],
   "source": [
    "from nltk.tree import ParentedTree\n",
    "ptree = ParentedTree.fromstring(sent._.parse_string)\n",
    "\n",
    "def traverse(t):\n",
    "    try:\n",
    "        t.label()\n",
    "    except AttributeError:\n",
    "        return\n",
    "    else:\n",
    "\n",
    "        if t.height() == 2:   #child nodes\n",
    "            print( t.parent())\n",
    "            return\n",
    "\n",
    "        for child in t:\n",
    "            traverse(child)\n",
    "\n",
    "traverse(ptree)"
   ]
  },
  {
   "cell_type": "code",
   "execution_count": 35,
   "metadata": {},
   "outputs": [
    {
     "name": "stdout",
     "output_type": "stream",
     "text": [
      "['As', 'to', 'the', 'latter', 'part', ',', 'I', 'have', 'no', 'means', 'of', 'checking', 'you', ',', \"''\", 'said', 'I', ',', '`', '`', 'but', 'at', 'least', 'it', 'is', 'not', 'difficult', 'to', 'find', 'out', 'a', 'few', 'particulars', 'about', 'the', 'man', \"'s\", 'age', 'and', 'professional', 'career', '.']\n",
      "(0, 3, 1, 0, 0, 0)\n",
      "no\n"
     ]
    }
   ],
   "source": [
    "leaf_values = ptree.leaves()\n",
    "print(leaf_values)\n",
    "if 'no' in leaf_values:\n",
    "    leaf_index = leaf_values.index('no')\n",
    "    tree_location = ptree.leaf_treeposition(leaf_index)\n",
    "    print(tree_location)\n",
    "    print(ptree[tree_location])"
   ]
  },
  {
   "cell_type": "code",
   "execution_count": null,
   "metadata": {},
   "outputs": [],
   "source": [
    "# # for each of the nodes in the set \n",
    "# take the negated word and compare it in a window fashion\n",
    "# if match found reduce the window by half."
   ]
  },
  {
   "cell_type": "code",
   "execution_count": 36,
   "metadata": {},
   "outputs": [
    {
     "data": {
      "text/plain": [
       "{'checking', 'means', 'no', 'of', 'you'}"
      ]
     },
     "execution_count": 36,
     "metadata": {},
     "output_type": "execute_result"
    }
   ],
   "source": [
    " set(ptree[tree_location[:-3]].leaves())"
   ]
  },
  {
   "cell_type": "code",
   "execution_count": 102,
   "metadata": {},
   "outputs": [
    {
     "name": "stdout",
     "output_type": "stream",
     "text": [
      "<bound method Tree.leaves of ParentedTree('NP', [ParentedTree('NP', [ParentedTree('RB', ['only']), ParentedTree('DT', ['an']), ParentedTree('JJ', ['unambitious']), ParentedTree('NN', ['one'])]), ParentedTree('SBAR', [ParentedTree('WHNP', [ParentedTree('WP', ['who'])]), ParentedTree('S', [ParentedTree('VP', [ParentedTree('VBZ', ['abandons']), ParentedTree('NP', [ParentedTree('DT', ['a']), ParentedTree('NNP', ['London']), ParentedTree('NN', ['career'])]), ParentedTree('PP', [ParentedTree('IN', ['for']), ParentedTree('NP', [ParentedTree('DT', ['the']), ParentedTree('NN', ['country'])])])])])])])>\n"
     ]
    }
   ],
   "source": [
    "print(ptree[tree_location[:-3]].leaves)"
   ]
  },
  {
   "cell_type": "code",
   "execution_count": 7,
   "metadata": {},
   "outputs": [
    {
     "name": "stdout",
     "output_type": "stream",
     "text": [
      "If SCONJ mark was\n",
      "he PRON nsubj was\n",
      "was AUX advcl been\n",
      "in ADP prep was\n",
      "the DET det hospital\n",
      "hospital NOUN pobj in\n",
      "and CCONJ cc was\n",
      "yet ADV advmod on\n",
      "not PART neg on\n",
      "on ADP conj was\n",
      "the DET det staff\n",
      "staff NOUN pobj on\n",
      "he PRON nsubj been\n",
      "could VERB aux been\n",
      "only ADV advmod been\n",
      "have AUX aux been\n",
      "been AUX ROOT been\n",
      "a DET det surgeon\n",
      "house NOUN compound surgeon\n",
      "- PUNCT punct surgeon\n",
      "surgeon NOUN attr been\n",
      "or CCONJ cc surgeon\n",
      "a DET det physician\n",
      "house NOUN compound physician\n",
      "- PUNCT punct physician\n",
      "physician NOUN conj surgeon\n",
      "-- PUNCT punct been\n",
      "little ADJ npadvmod more\n",
      "more ADJ advmod been\n",
      "than SCONJ prep more\n",
      "a DET det student\n",
      "senior ADJ amod student\n",
      "student NOUN pobj than\n",
      ". PUNCT punct been\n"
     ]
    }
   ],
   "source": [
    "for token in doc:\n",
    "    print(token.text, token.pos_, token.dep_, token.head.text)"
   ]
  },
  {
   "cell_type": "code",
   "execution_count": 8,
   "metadata": {},
   "outputs": [
    {
     "ename": "NameError",
     "evalue": "name 'nltk_spacy_tree' is not defined",
     "output_type": "error",
     "traceback": [
      "\u001b[0;31m---------------------------------------------------------------------------\u001b[0m",
      "\u001b[0;31mNameError\u001b[0m                                 Traceback (most recent call last)",
      "\u001b[0;32m<ipython-input-8-0a2112f5929d>\u001b[0m in \u001b[0;36m<module>\u001b[0;34m\u001b[0m\n\u001b[0;32m----> 1\u001b[0;31m \u001b[0mtrees\u001b[0m \u001b[0;34m=\u001b[0m \u001b[0mnltk_spacy_tree\u001b[0m\u001b[0;34m(\u001b[0m\u001b[0mtext\u001b[0m\u001b[0;34m)\u001b[0m\u001b[0;34m\u001b[0m\u001b[0;34m\u001b[0m\u001b[0m\n\u001b[0m",
      "\u001b[0;31mNameError\u001b[0m: name 'nltk_spacy_tree' is not defined"
     ]
    }
   ],
   "source": [
    "trees = nltk_spacy_tree(text)"
   ]
  },
  {
   "cell_type": "code",
   "execution_count": 183,
   "metadata": {},
   "outputs": [
    {
     "name": "stdout",
     "output_type": "stream",
     "text": [
      "\n",
      "\n",
      "It_PRP_nsubj_0\n",
      "It\n",
      "\n",
      "\n",
      "(experience_NN_attr_1 my_PRP$_poss_0)\n",
      "experience\n",
      "my\n",
      "\n",
      "\n",
      "(is_VBZ_ccomp_2 that_IN_mark_0 it_PRP_nsubj_1 (man_NN_attr_2 only_RB_advmod_0 an_DT_det_1 amiable_JJ_amod_2 (in_IN_prep_3 (world_NN_pobj_0 this_DT_det_0)) (receives_VBZ_relcl_4 who_WP_nsubj_0 testimonials_NNS_dobj_1) ,_,_punct_5 (one_NN_appos_6 only_RB_advmod_0 an_DT_det_1 unambitious_JJ_amod_2 (abandons_VBZ_relcl_3 who_WP_nsubj_0 (career_NN_dobj_1 a_DT_det_0 London_NNP_compound_1 (for_IN_prep_2 (country_NN_pobj_0 the_DT_det_0)))) ,_,_punct_4 and_CC_cc_5 (one_CD_conj_6 only_RB_advmod_0 an_DT_det_1 (minded_JJ_amod_2 absent_JJ_amod_0 -_HYPH_punct_1) (leaves_VBZ_relcl_3 who_WP_nsubj_0 (stick_NN_dobj_1 his_PRP$_poss_0)) and_CC_cc_4 (card_NN_conj_5 not_RB_neg_0 his_PRP$_poss_1 visiting_VBG_amod_2 -_HYPH_punct_3 (after_IN_prep_4 (waiting_VBG_pcomp_0 (hour_NN_dobj_0 an_DT_det_0) (in_IN_prep_1 (room_NN_pobj_0 your_PRP$_poss_0)))))))))\n",
      "is\n",
      "that\n",
      "it\n",
      "man\n",
      "only\n",
      "an\n",
      "amiable\n",
      "in\n",
      "world\n",
      "this\n",
      "receives\n",
      "who\n",
      "testimonials\n",
      ",\n",
      "one\n",
      "only\n",
      "an\n",
      "unambitious\n",
      "abandons\n",
      "who\n",
      "career\n",
      "a\n",
      "London\n",
      "for\n",
      "country\n",
      "the\n",
      ",\n",
      "and\n",
      "one\n",
      "only\n",
      "an\n",
      "minded\n",
      "absent\n",
      "-\n",
      "leaves\n",
      "who\n",
      "stick\n",
      "his\n",
      "and\n",
      "card\n",
      "not\n",
      "his\n",
      "visiting\n",
      "-\n",
      "after\n",
      "waiting\n",
      "hour\n",
      "an\n",
      "in\n",
      "room\n",
      "your\n"
     ]
    }
   ],
   "source": [
    "for i in trees[:-1]:\n",
    "#     print(i)\n",
    "    print(\"\\n\")\n",
    "    splitted = str(i)\n",
    "    splitted = splitted.split()\n",
    "    flat_tree = ' '.join(splitted)\n",
    "    print(flat_tree)\n",
    "    for j in flat_tree.split():\n",
    "        if j[0]==\"(\":\n",
    "            print(j[1:].split(\"_\")[0]) \n",
    "        else:\n",
    "            print(j.split(\"_\")[0] )\n",
    "    "
   ]
  },
  {
   "cell_type": "code",
   "execution_count": 185,
   "metadata": {},
   "outputs": [
    {
     "data": {
      "text/plain": [
       "['(is_VBZ_ccomp_2',\n",
       " 'that_IN_mark_0',\n",
       " 'it_PRP_nsubj_1',\n",
       " '(man_NN_attr_2',\n",
       " 'only_RB_advmod_0',\n",
       " 'an_DT_det_1',\n",
       " 'amiable_JJ_amod_2',\n",
       " '(in_IN_prep_3',\n",
       " '(world_NN_pobj_0',\n",
       " 'this_DT_det_0))',\n",
       " '(receives_VBZ_relcl_4',\n",
       " 'who_WP_nsubj_0',\n",
       " 'testimonials_NNS_dobj_1)',\n",
       " ',_,_punct_5',\n",
       " '(one_NN_appos_6',\n",
       " 'only_RB_advmod_0',\n",
       " 'an_DT_det_1',\n",
       " 'unambitious_JJ_amod_2',\n",
       " '(abandons_VBZ_relcl_3',\n",
       " 'who_WP_nsubj_0',\n",
       " '(career_NN_dobj_1',\n",
       " 'a_DT_det_0',\n",
       " 'London_NNP_compound_1',\n",
       " '(for_IN_prep_2',\n",
       " '(country_NN_pobj_0',\n",
       " 'the_DT_det_0))))',\n",
       " ',_,_punct_4',\n",
       " 'and_CC_cc_5',\n",
       " '(one_CD_conj_6',\n",
       " 'only_RB_advmod_0',\n",
       " 'an_DT_det_1',\n",
       " '(minded_JJ_amod_2',\n",
       " 'absent_JJ_amod_0',\n",
       " '-_HYPH_punct_1)',\n",
       " '(leaves_VBZ_relcl_3',\n",
       " 'who_WP_nsubj_0',\n",
       " '(stick_NN_dobj_1',\n",
       " 'his_PRP$_poss_0))',\n",
       " 'and_CC_cc_4',\n",
       " '(card_NN_conj_5',\n",
       " 'not_RB_neg_0',\n",
       " 'his_PRP$_poss_1',\n",
       " 'visiting_VBG_amod_2',\n",
       " '-_HYPH_punct_3',\n",
       " '(after_IN_prep_4',\n",
       " '(waiting_VBG_pcomp_0',\n",
       " '(hour_NN_dobj_0',\n",
       " 'an_DT_det_0)',\n",
       " '(in_IN_prep_1',\n",
       " '(room_NN_pobj_0',\n",
       " 'your_PRP$_poss_0)))))))))']"
      ]
     },
     "execution_count": 185,
     "metadata": {},
     "output_type": "execute_result"
    }
   ],
   "source": [
    "test = '(is_VBZ_ccomp_2 that_IN_mark_0 it_PRP_nsubj_1 (man_NN_attr_2 only_RB_advmod_0 an_DT_det_1 amiable_JJ_amod_2 (in_IN_prep_3 (world_NN_pobj_0 this_DT_det_0)) (receives_VBZ_relcl_4 who_WP_nsubj_0 testimonials_NNS_dobj_1) ,_,_punct_5 (one_NN_appos_6 only_RB_advmod_0 an_DT_det_1 unambitious_JJ_amod_2 (abandons_VBZ_relcl_3 who_WP_nsubj_0 (career_NN_dobj_1 a_DT_det_0 London_NNP_compound_1 (for_IN_prep_2 (country_NN_pobj_0 the_DT_det_0)))) ,_,_punct_4 and_CC_cc_5 (one_CD_conj_6 only_RB_advmod_0 an_DT_det_1 (minded_JJ_amod_2 absent_JJ_amod_0 -_HYPH_punct_1) (leaves_VBZ_relcl_3 who_WP_nsubj_0 (stick_NN_dobj_1 his_PRP$_poss_0)) and_CC_cc_4 (card_NN_conj_5 not_RB_neg_0 his_PRP$_poss_1 visiting_VBG_amod_2 -_HYPH_punct_3 (after_IN_prep_4 (waiting_VBG_pcomp_0 (hour_NN_dobj_0 an_DT_det_0) (in_IN_prep_1 (room_NN_pobj_0 your_PRP$_poss_0)))))))))'\n",
    "test.split(\" \")"
   ]
  },
  {
   "cell_type": "code",
   "execution_count": 151,
   "metadata": {},
   "outputs": [
    {
     "ename": "SyntaxError",
     "evalue": "invalid syntax (<ipython-input-151-ecc71891e2cf>, line 16)",
     "output_type": "error",
     "traceback": [
      "\u001b[0;36m  File \u001b[0;32m\"<ipython-input-151-ecc71891e2cf>\"\u001b[0;36m, line \u001b[0;32m16\u001b[0m\n\u001b[0;31m    you PRON nsubj observe\u001b[0m\n\u001b[0m           ^\u001b[0m\n\u001b[0;31mSyntaxError\u001b[0m\u001b[0;31m:\u001b[0m invalid syntax\n"
     ]
    }
   ],
   "source": [
    "# , PUNCT punct sitting\n",
    "#and CCONJ cc sitting\n",
    "#had VERB aux given\n",
    "\n",
    "#Since ADP mark been\n",
    "# we PRON nsubj been\n",
    "\n",
    "\n",
    "(',', 'O', 'O')\n",
    "('and', 'O', 'B-scope')\n",
    "('such', 'B-scope', 'I-scope')\n",
    "\n",
    "\n",
    "# mwe  by no means\n",
    "\n",
    "you PRON nsubj observe\n",
    "will VERB aux observe\n",
    "observe VERB ROOT observe\n",
    "that ADP mark been\n",
    "\n",
    "\n",
    "you PRON nsubj observe\n",
    "will VERB aux observe\n",
    "observe VERB ROOT observe\n",
    "that ADP mark been\n",
    "\n",
    ",\tO\n",
    "unambitious\tB_scope\n",
    ",\tO"
   ]
  },
  {
   "cell_type": "code",
   "execution_count": null,
   "metadata": {},
   "outputs": [],
   "source": [
    "#RULE for unknown\n",
    "\n",
    "an\tB_scope\n",
    "unknown\tI_scope\n",
    "factor\tI_scope"
   ]
  },
  {
   "cell_type": "code",
   "execution_count": null,
   "metadata": {},
   "outputs": [],
   "source": [
    ",\tO\n",
    "breathlessness\tB_scope\n",
    ",\tO"
   ]
  },
  {
   "cell_type": "code",
   "execution_count": null,
   "metadata": {},
   "outputs": [],
   "source": [
    "high\tO\n",
    "and\tO\n",
    "impenetrable\tB_scope\n",
    ".\tO"
   ]
  }
 ],
 "metadata": {
  "kernelspec": {
   "display_name": "Python 3",
   "language": "python",
   "name": "python3"
  },
  "language_info": {
   "codemirror_mode": {
    "name": "ipython",
    "version": 3
   },
   "file_extension": ".py",
   "mimetype": "text/x-python",
   "name": "python",
   "nbconvert_exporter": "python",
   "pygments_lexer": "ipython3",
   "version": "3.7.4"
  }
 },
 "nbformat": 4,
 "nbformat_minor": 4
}
